{
 "cells": [
  {
   "cell_type": "code",
   "execution_count": 5,
   "metadata": {
    "ExecuteTime": {
     "end_time": "2020-11-03T19:14:28.723152Z",
     "start_time": "2020-11-03T19:14:27.190375Z"
    },
    "scrolled": true
   },
   "outputs": [
    {
     "data": {
      "text/html": [
       "<div>\n",
       "<style scoped>\n",
       "    .dataframe tbody tr th:only-of-type {\n",
       "        vertical-align: middle;\n",
       "    }\n",
       "\n",
       "    .dataframe tbody tr th {\n",
       "        vertical-align: top;\n",
       "    }\n",
       "\n",
       "    .dataframe thead th {\n",
       "        text-align: right;\n",
       "    }\n",
       "</style>\n",
       "<table border=\"1\" class=\"dataframe\">\n",
       "  <thead>\n",
       "    <tr style=\"text-align: right;\">\n",
       "      <th></th>\n",
       "      <th>Year</th>\n",
       "      <th>Energy Sector</th>\n",
       "      <th>Carrier Type</th>\n",
       "      <th>Final Energy Demand</th>\n",
       "      <th>RE Share</th>\n",
       "      <th>CumSumEnergy</th>\n",
       "    </tr>\n",
       "  </thead>\n",
       "  <tbody>\n",
       "    <tr>\n",
       "      <th>0</th>\n",
       "      <td>2015</td>\n",
       "      <td>Transportation</td>\n",
       "      <td>Electricity</td>\n",
       "      <td>1503</td>\n",
       "      <td>0.015467</td>\n",
       "      <td>1503</td>\n",
       "    </tr>\n",
       "    <tr>\n",
       "      <th>1</th>\n",
       "      <td>2020</td>\n",
       "      <td>Transportation</td>\n",
       "      <td>Electricity</td>\n",
       "      <td>1855</td>\n",
       "      <td>0.018480</td>\n",
       "      <td>1855</td>\n",
       "    </tr>\n",
       "    <tr>\n",
       "      <th>2</th>\n",
       "      <td>2025</td>\n",
       "      <td>Transportation</td>\n",
       "      <td>Electricity</td>\n",
       "      <td>4930</td>\n",
       "      <td>0.062231</td>\n",
       "      <td>4930</td>\n",
       "    </tr>\n",
       "    <tr>\n",
       "      <th>3</th>\n",
       "      <td>2030</td>\n",
       "      <td>Transportation</td>\n",
       "      <td>Electricity</td>\n",
       "      <td>11034</td>\n",
       "      <td>0.184887</td>\n",
       "      <td>11034</td>\n",
       "    </tr>\n",
       "    <tr>\n",
       "      <th>4</th>\n",
       "      <td>2035</td>\n",
       "      <td>Transportation</td>\n",
       "      <td>Electricity</td>\n",
       "      <td>17582</td>\n",
       "      <td>0.365423</td>\n",
       "      <td>17582</td>\n",
       "    </tr>\n",
       "    <tr>\n",
       "      <th>5</th>\n",
       "      <td>2040</td>\n",
       "      <td>Transportation</td>\n",
       "      <td>Electricity</td>\n",
       "      <td>19380</td>\n",
       "      <td>0.446184</td>\n",
       "      <td>19380</td>\n",
       "    </tr>\n",
       "    <tr>\n",
       "      <th>6</th>\n",
       "      <td>2045</td>\n",
       "      <td>Transportation</td>\n",
       "      <td>Electricity</td>\n",
       "      <td>19142</td>\n",
       "      <td>0.477174</td>\n",
       "      <td>19142</td>\n",
       "    </tr>\n",
       "    <tr>\n",
       "      <th>7</th>\n",
       "      <td>2050</td>\n",
       "      <td>Transportation</td>\n",
       "      <td>Electricity</td>\n",
       "      <td>18839</td>\n",
       "      <td>0.499577</td>\n",
       "      <td>18839</td>\n",
       "    </tr>\n",
       "    <tr>\n",
       "      <th>8</th>\n",
       "      <td>2015</td>\n",
       "      <td>Transportation</td>\n",
       "      <td>Other Carrier</td>\n",
       "      <td>95682</td>\n",
       "      <td>NaN</td>\n",
       "      <td>97185</td>\n",
       "    </tr>\n",
       "    <tr>\n",
       "      <th>9</th>\n",
       "      <td>2020</td>\n",
       "      <td>Transportation</td>\n",
       "      <td>Other Carrier</td>\n",
       "      <td>98540</td>\n",
       "      <td>NaN</td>\n",
       "      <td>100395</td>\n",
       "    </tr>\n",
       "    <tr>\n",
       "      <th>10</th>\n",
       "      <td>2025</td>\n",
       "      <td>Transportation</td>\n",
       "      <td>Other Carrier</td>\n",
       "      <td>74292</td>\n",
       "      <td>NaN</td>\n",
       "      <td>79222</td>\n",
       "    </tr>\n",
       "    <tr>\n",
       "      <th>11</th>\n",
       "      <td>2030</td>\n",
       "      <td>Transportation</td>\n",
       "      <td>Other Carrier</td>\n",
       "      <td>48646</td>\n",
       "      <td>NaN</td>\n",
       "      <td>59680</td>\n",
       "    </tr>\n",
       "    <tr>\n",
       "      <th>12</th>\n",
       "      <td>2035</td>\n",
       "      <td>Transportation</td>\n",
       "      <td>Other Carrier</td>\n",
       "      <td>30531</td>\n",
       "      <td>NaN</td>\n",
       "      <td>48113</td>\n",
       "    </tr>\n",
       "    <tr>\n",
       "      <th>13</th>\n",
       "      <td>2040</td>\n",
       "      <td>Transportation</td>\n",
       "      <td>Other Carrier</td>\n",
       "      <td>24055</td>\n",
       "      <td>NaN</td>\n",
       "      <td>43435</td>\n",
       "    </tr>\n",
       "    <tr>\n",
       "      <th>14</th>\n",
       "      <td>2045</td>\n",
       "      <td>Transportation</td>\n",
       "      <td>Other Carrier</td>\n",
       "      <td>20974</td>\n",
       "      <td>NaN</td>\n",
       "      <td>40116</td>\n",
       "    </tr>\n",
       "    <tr>\n",
       "      <th>15</th>\n",
       "      <td>2050</td>\n",
       "      <td>Transportation</td>\n",
       "      <td>Other Carrier</td>\n",
       "      <td>18871</td>\n",
       "      <td>NaN</td>\n",
       "      <td>37710</td>\n",
       "    </tr>\n",
       "    <tr>\n",
       "      <th>16</th>\n",
       "      <td>2015</td>\n",
       "      <td>Industry</td>\n",
       "      <td>Electricity</td>\n",
       "      <td>30591</td>\n",
       "      <td>0.269382</td>\n",
       "      <td>127776</td>\n",
       "    </tr>\n",
       "    <tr>\n",
       "      <th>17</th>\n",
       "      <td>2020</td>\n",
       "      <td>Industry</td>\n",
       "      <td>Electricity</td>\n",
       "      <td>33856</td>\n",
       "      <td>0.283274</td>\n",
       "      <td>134251</td>\n",
       "    </tr>\n",
       "    <tr>\n",
       "      <th>18</th>\n",
       "      <td>2025</td>\n",
       "      <td>Industry</td>\n",
       "      <td>Electricity</td>\n",
       "      <td>38010</td>\n",
       "      <td>0.334866</td>\n",
       "      <td>117232</td>\n",
       "    </tr>\n",
       "    <tr>\n",
       "      <th>19</th>\n",
       "      <td>2030</td>\n",
       "      <td>Industry</td>\n",
       "      <td>Electricity</td>\n",
       "      <td>43105</td>\n",
       "      <td>0.402140</td>\n",
       "      <td>102785</td>\n",
       "    </tr>\n",
       "    <tr>\n",
       "      <th>20</th>\n",
       "      <td>2035</td>\n",
       "      <td>Industry</td>\n",
       "      <td>Electricity</td>\n",
       "      <td>47169</td>\n",
       "      <td>0.467742</td>\n",
       "      <td>95282</td>\n",
       "    </tr>\n",
       "    <tr>\n",
       "      <th>21</th>\n",
       "      <td>2040</td>\n",
       "      <td>Industry</td>\n",
       "      <td>Electricity</td>\n",
       "      <td>50266</td>\n",
       "      <td>0.506464</td>\n",
       "      <td>93701</td>\n",
       "    </tr>\n",
       "    <tr>\n",
       "      <th>22</th>\n",
       "      <td>2045</td>\n",
       "      <td>Industry</td>\n",
       "      <td>Electricity</td>\n",
       "      <td>53485</td>\n",
       "      <td>0.544303</td>\n",
       "      <td>93601</td>\n",
       "    </tr>\n",
       "    <tr>\n",
       "      <th>23</th>\n",
       "      <td>2050</td>\n",
       "      <td>Industry</td>\n",
       "      <td>Electricity</td>\n",
       "      <td>56877</td>\n",
       "      <td>0.577011</td>\n",
       "      <td>94587</td>\n",
       "    </tr>\n",
       "    <tr>\n",
       "      <th>24</th>\n",
       "      <td>2015</td>\n",
       "      <td>Industry</td>\n",
       "      <td>Other Carrier</td>\n",
       "      <td>82970</td>\n",
       "      <td>NaN</td>\n",
       "      <td>210746</td>\n",
       "    </tr>\n",
       "    <tr>\n",
       "      <th>25</th>\n",
       "      <td>2020</td>\n",
       "      <td>Industry</td>\n",
       "      <td>Other Carrier</td>\n",
       "      <td>85661</td>\n",
       "      <td>NaN</td>\n",
       "      <td>219912</td>\n",
       "    </tr>\n",
       "    <tr>\n",
       "      <th>26</th>\n",
       "      <td>2025</td>\n",
       "      <td>Industry</td>\n",
       "      <td>Other Carrier</td>\n",
       "      <td>75498</td>\n",
       "      <td>NaN</td>\n",
       "      <td>192730</td>\n",
       "    </tr>\n",
       "    <tr>\n",
       "      <th>27</th>\n",
       "      <td>2030</td>\n",
       "      <td>Industry</td>\n",
       "      <td>Other Carrier</td>\n",
       "      <td>64083</td>\n",
       "      <td>NaN</td>\n",
       "      <td>166868</td>\n",
       "    </tr>\n",
       "    <tr>\n",
       "      <th>28</th>\n",
       "      <td>2035</td>\n",
       "      <td>Industry</td>\n",
       "      <td>Other Carrier</td>\n",
       "      <td>53675</td>\n",
       "      <td>NaN</td>\n",
       "      <td>148957</td>\n",
       "    </tr>\n",
       "    <tr>\n",
       "      <th>29</th>\n",
       "      <td>2040</td>\n",
       "      <td>Industry</td>\n",
       "      <td>Other Carrier</td>\n",
       "      <td>48983</td>\n",
       "      <td>NaN</td>\n",
       "      <td>142684</td>\n",
       "    </tr>\n",
       "    <tr>\n",
       "      <th>30</th>\n",
       "      <td>2045</td>\n",
       "      <td>Industry</td>\n",
       "      <td>Other Carrier</td>\n",
       "      <td>44778</td>\n",
       "      <td>NaN</td>\n",
       "      <td>138379</td>\n",
       "    </tr>\n",
       "    <tr>\n",
       "      <th>31</th>\n",
       "      <td>2050</td>\n",
       "      <td>Industry</td>\n",
       "      <td>Other Carrier</td>\n",
       "      <td>41695</td>\n",
       "      <td>NaN</td>\n",
       "      <td>136282</td>\n",
       "    </tr>\n",
       "    <tr>\n",
       "      <th>32</th>\n",
       "      <td>2015</td>\n",
       "      <td>Buildings/Others</td>\n",
       "      <td>Electricity</td>\n",
       "      <td>40640</td>\n",
       "      <td>0.309890</td>\n",
       "      <td>251386</td>\n",
       "    </tr>\n",
       "    <tr>\n",
       "      <th>33</th>\n",
       "      <td>2020</td>\n",
       "      <td>Buildings/Others</td>\n",
       "      <td>Electricity</td>\n",
       "      <td>45183</td>\n",
       "      <td>0.334224</td>\n",
       "      <td>265095</td>\n",
       "    </tr>\n",
       "    <tr>\n",
       "      <th>34</th>\n",
       "      <td>2025</td>\n",
       "      <td>Buildings/Others</td>\n",
       "      <td>Electricity</td>\n",
       "      <td>49102</td>\n",
       "      <td>0.384402</td>\n",
       "      <td>241832</td>\n",
       "    </tr>\n",
       "    <tr>\n",
       "      <th>35</th>\n",
       "      <td>2030</td>\n",
       "      <td>Buildings/Others</td>\n",
       "      <td>Electricity</td>\n",
       "      <td>52520</td>\n",
       "      <td>0.447829</td>\n",
       "      <td>219388</td>\n",
       "    </tr>\n",
       "    <tr>\n",
       "      <th>36</th>\n",
       "      <td>2035</td>\n",
       "      <td>Buildings/Others</td>\n",
       "      <td>Electricity</td>\n",
       "      <td>57000</td>\n",
       "      <td>0.501136</td>\n",
       "      <td>205957</td>\n",
       "    </tr>\n",
       "    <tr>\n",
       "      <th>37</th>\n",
       "      <td>2040</td>\n",
       "      <td>Buildings/Others</td>\n",
       "      <td>Electricity</td>\n",
       "      <td>62762</td>\n",
       "      <td>0.549773</td>\n",
       "      <td>205446</td>\n",
       "    </tr>\n",
       "    <tr>\n",
       "      <th>38</th>\n",
       "      <td>2045</td>\n",
       "      <td>Buildings/Others</td>\n",
       "      <td>Electricity</td>\n",
       "      <td>68733</td>\n",
       "      <td>0.595944</td>\n",
       "      <td>207112</td>\n",
       "    </tr>\n",
       "    <tr>\n",
       "      <th>39</th>\n",
       "      <td>2050</td>\n",
       "      <td>Buildings/Others</td>\n",
       "      <td>Electricity</td>\n",
       "      <td>74438</td>\n",
       "      <td>0.636943</td>\n",
       "      <td>210720</td>\n",
       "    </tr>\n",
       "    <tr>\n",
       "      <th>40</th>\n",
       "      <td>2015</td>\n",
       "      <td>Buildings/Others</td>\n",
       "      <td>Other Carrier</td>\n",
       "      <td>90503</td>\n",
       "      <td>NaN</td>\n",
       "      <td>341889</td>\n",
       "    </tr>\n",
       "    <tr>\n",
       "      <th>41</th>\n",
       "      <td>2020</td>\n",
       "      <td>Buildings/Others</td>\n",
       "      <td>Other Carrier</td>\n",
       "      <td>90005</td>\n",
       "      <td>NaN</td>\n",
       "      <td>355100</td>\n",
       "    </tr>\n",
       "    <tr>\n",
       "      <th>42</th>\n",
       "      <td>2025</td>\n",
       "      <td>Buildings/Others</td>\n",
       "      <td>Other Carrier</td>\n",
       "      <td>78634</td>\n",
       "      <td>NaN</td>\n",
       "      <td>320466</td>\n",
       "    </tr>\n",
       "    <tr>\n",
       "      <th>43</th>\n",
       "      <td>2030</td>\n",
       "      <td>Buildings/Others</td>\n",
       "      <td>Other Carrier</td>\n",
       "      <td>64757</td>\n",
       "      <td>NaN</td>\n",
       "      <td>284145</td>\n",
       "    </tr>\n",
       "    <tr>\n",
       "      <th>44</th>\n",
       "      <td>2035</td>\n",
       "      <td>Buildings/Others</td>\n",
       "      <td>Other Carrier</td>\n",
       "      <td>56742</td>\n",
       "      <td>NaN</td>\n",
       "      <td>262699</td>\n",
       "    </tr>\n",
       "    <tr>\n",
       "      <th>45</th>\n",
       "      <td>2040</td>\n",
       "      <td>Buildings/Others</td>\n",
       "      <td>Other Carrier</td>\n",
       "      <td>51398</td>\n",
       "      <td>NaN</td>\n",
       "      <td>256844</td>\n",
       "    </tr>\n",
       "    <tr>\n",
       "      <th>46</th>\n",
       "      <td>2045</td>\n",
       "      <td>Buildings/Others</td>\n",
       "      <td>Other Carrier</td>\n",
       "      <td>46601</td>\n",
       "      <td>NaN</td>\n",
       "      <td>253713</td>\n",
       "    </tr>\n",
       "    <tr>\n",
       "      <th>47</th>\n",
       "      <td>2050</td>\n",
       "      <td>Buildings/Others</td>\n",
       "      <td>Other Carrier</td>\n",
       "      <td>42430</td>\n",
       "      <td>NaN</td>\n",
       "      <td>253150</td>\n",
       "    </tr>\n",
       "  </tbody>\n",
       "</table>\n",
       "</div>"
      ],
      "text/plain": [
       "    Year     Energy Sector   Carrier Type  Final Energy Demand  RE Share  \\\n",
       "0   2015    Transportation    Electricity                 1503  0.015467   \n",
       "1   2020    Transportation    Electricity                 1855  0.018480   \n",
       "2   2025    Transportation    Electricity                 4930  0.062231   \n",
       "3   2030    Transportation    Electricity                11034  0.184887   \n",
       "4   2035    Transportation    Electricity                17582  0.365423   \n",
       "5   2040    Transportation    Electricity                19380  0.446184   \n",
       "6   2045    Transportation    Electricity                19142  0.477174   \n",
       "7   2050    Transportation    Electricity                18839  0.499577   \n",
       "8   2015    Transportation  Other Carrier                95682       NaN   \n",
       "9   2020    Transportation  Other Carrier                98540       NaN   \n",
       "10  2025    Transportation  Other Carrier                74292       NaN   \n",
       "11  2030    Transportation  Other Carrier                48646       NaN   \n",
       "12  2035    Transportation  Other Carrier                30531       NaN   \n",
       "13  2040    Transportation  Other Carrier                24055       NaN   \n",
       "14  2045    Transportation  Other Carrier                20974       NaN   \n",
       "15  2050    Transportation  Other Carrier                18871       NaN   \n",
       "16  2015          Industry    Electricity                30591  0.269382   \n",
       "17  2020          Industry    Electricity                33856  0.283274   \n",
       "18  2025          Industry    Electricity                38010  0.334866   \n",
       "19  2030          Industry    Electricity                43105  0.402140   \n",
       "20  2035          Industry    Electricity                47169  0.467742   \n",
       "21  2040          Industry    Electricity                50266  0.506464   \n",
       "22  2045          Industry    Electricity                53485  0.544303   \n",
       "23  2050          Industry    Electricity                56877  0.577011   \n",
       "24  2015          Industry  Other Carrier                82970       NaN   \n",
       "25  2020          Industry  Other Carrier                85661       NaN   \n",
       "26  2025          Industry  Other Carrier                75498       NaN   \n",
       "27  2030          Industry  Other Carrier                64083       NaN   \n",
       "28  2035          Industry  Other Carrier                53675       NaN   \n",
       "29  2040          Industry  Other Carrier                48983       NaN   \n",
       "30  2045          Industry  Other Carrier                44778       NaN   \n",
       "31  2050          Industry  Other Carrier                41695       NaN   \n",
       "32  2015  Buildings/Others    Electricity                40640  0.309890   \n",
       "33  2020  Buildings/Others    Electricity                45183  0.334224   \n",
       "34  2025  Buildings/Others    Electricity                49102  0.384402   \n",
       "35  2030  Buildings/Others    Electricity                52520  0.447829   \n",
       "36  2035  Buildings/Others    Electricity                57000  0.501136   \n",
       "37  2040  Buildings/Others    Electricity                62762  0.549773   \n",
       "38  2045  Buildings/Others    Electricity                68733  0.595944   \n",
       "39  2050  Buildings/Others    Electricity                74438  0.636943   \n",
       "40  2015  Buildings/Others  Other Carrier                90503       NaN   \n",
       "41  2020  Buildings/Others  Other Carrier                90005       NaN   \n",
       "42  2025  Buildings/Others  Other Carrier                78634       NaN   \n",
       "43  2030  Buildings/Others  Other Carrier                64757       NaN   \n",
       "44  2035  Buildings/Others  Other Carrier                56742       NaN   \n",
       "45  2040  Buildings/Others  Other Carrier                51398       NaN   \n",
       "46  2045  Buildings/Others  Other Carrier                46601       NaN   \n",
       "47  2050  Buildings/Others  Other Carrier                42430       NaN   \n",
       "\n",
       "    CumSumEnergy  \n",
       "0           1503  \n",
       "1           1855  \n",
       "2           4930  \n",
       "3          11034  \n",
       "4          17582  \n",
       "5          19380  \n",
       "6          19142  \n",
       "7          18839  \n",
       "8          97185  \n",
       "9         100395  \n",
       "10         79222  \n",
       "11         59680  \n",
       "12         48113  \n",
       "13         43435  \n",
       "14         40116  \n",
       "15         37710  \n",
       "16        127776  \n",
       "17        134251  \n",
       "18        117232  \n",
       "19        102785  \n",
       "20         95282  \n",
       "21         93701  \n",
       "22         93601  \n",
       "23         94587  \n",
       "24        210746  \n",
       "25        219912  \n",
       "26        192730  \n",
       "27        166868  \n",
       "28        148957  \n",
       "29        142684  \n",
       "30        138379  \n",
       "31        136282  \n",
       "32        251386  \n",
       "33        265095  \n",
       "34        241832  \n",
       "35        219388  \n",
       "36        205957  \n",
       "37        205446  \n",
       "38        207112  \n",
       "39        210720  \n",
       "40        341889  \n",
       "41        355100  \n",
       "42        320466  \n",
       "43        284145  \n",
       "44        262699  \n",
       "45        256844  \n",
       "46        253713  \n",
       "47        253150  "
      ]
     },
     "execution_count": 5,
     "metadata": {},
     "output_type": "execute_result"
    }
   ],
   "source": [
    "import pandas as pd\n",
    "import plotly.graph_objects as go\n",
    "data = pd.read_csv('World.csv')\n",
    "data"
   ]
  },
  {
   "cell_type": "code",
   "execution_count": 6,
   "metadata": {},
   "outputs": [
    {
     "data": {
      "text/plain": [
       "Year  Energy Sector   \n",
       "2015  Buildings/Others    131143\n",
       "      Industry            113561\n",
       "      Transportation       97185\n",
       "2020  Buildings/Others    135188\n",
       "      Industry            119517\n",
       "      Transportation      100395\n",
       "2025  Buildings/Others    127736\n",
       "      Industry            113508\n",
       "      Transportation       79222\n",
       "2030  Buildings/Others    117277\n",
       "      Industry            107188\n",
       "      Transportation       59680\n",
       "2035  Buildings/Others    113742\n",
       "      Industry            100844\n",
       "      Transportation       48113\n",
       "2040  Buildings/Others    114160\n",
       "      Industry             99249\n",
       "      Transportation       43435\n",
       "2045  Buildings/Others    115334\n",
       "      Industry             98263\n",
       "      Transportation       40116\n",
       "2050  Buildings/Others    116868\n",
       "      Industry             98572\n",
       "      Transportation       37710\n",
       "Name: Final Energy Demand, dtype: int64"
      ]
     },
     "execution_count": 6,
     "metadata": {},
     "output_type": "execute_result"
    }
   ],
   "source": [
    "data.groupby(['Year','Energy Sector'])['Final Energy Demand'].sum()"
   ]
  },
  {
   "cell_type": "code",
   "execution_count": 7,
   "metadata": {
    "ExecuteTime": {
     "end_time": "2020-11-03T19:14:33.172063Z",
     "start_time": "2020-11-03T19:14:33.155581Z"
    }
   },
   "outputs": [],
   "source": [
    "# data \n",
    "a = data[(data.loc[:,'Energy Sector'] == 'Transportation') & (data.loc[:,'Carrier Type'] == 'Electricity')].reset_index()['Final Energy Demand']\n",
    "b = data[(data.loc[:,'Energy Sector'] == 'Transportation') & (data.loc[:,'Carrier Type'] == 'Other Carrier')].reset_index()['Final Energy Demand']\n",
    "c = data[(data.loc[:,'Energy Sector'] == 'Industry') & (data.loc[:,'Carrier Type'] == 'Electricity')].reset_index()['Final Energy Demand']\n",
    "d = data[(data.loc[:,'Energy Sector'] == 'Industry') & (data.loc[:,'Carrier Type'] == 'Other Carrier')].reset_index()['Final Energy Demand']\n",
    "e = data[(data.loc[:,'Energy Sector'] == 'Buildings/Others') & (data.loc[:,'Carrier Type'] == 'Electricity')].reset_index()['Final Energy Demand']\n",
    "f = data[(data.loc[:,'Energy Sector'] == 'Buildings/Others') & (data.loc[:,'Carrier Type'] == 'Other Carrier')].reset_index()['Final Energy Demand']\n",
    "g= data[(data.loc[:,'Energy Sector'] == 'Transportation') & (data.loc[:,'Carrier Type'] == 'Electricity')]['RE Share'].round(2)\n",
    "h = data[(data.loc[:,'Energy Sector'] == 'Industry') & (data.loc[:,'Carrier Type'] == 'Electricity')].reset_index()['RE Share'].round(2)\n",
    "I = data[(data.loc[:,'Energy Sector'] == 'Buildings/Others') & (data.loc[:,'Carrier Type'] == 'Electricity')].reset_index()['RE Share'].round(2)"
   ]
  },
  {
   "cell_type": "code",
   "execution_count": 14,
   "metadata": {},
   "outputs": [
    {
     "data": {
      "text/plain": [
       "2050"
      ]
     },
     "execution_count": 14,
     "metadata": {},
     "output_type": "execute_result"
    }
   ],
   "source": []
  },
  {
   "cell_type": "code",
   "execution_count": 18,
   "metadata": {},
   "outputs": [
    {
     "data": {
      "application/vnd.plotly.v1+json": {
       "config": {
        "plotlyServerURL": "https://plot.ly"
       },
       "data": [
        {
         "fillcolor": "rgba(193, 224, 236,100)",
         "hoverinfo": "none",
         "line": {
          "color": "rgba(193, 224, 236,100)",
          "width": 0.5
         },
         "mode": "lines",
         "stackgroup": "one",
         "type": "scatter",
         "x": [
          2015,
          2020,
          2025,
          2030,
          2035,
          2040,
          2045,
          2050,
          2015,
          2020,
          2025,
          2030,
          2035,
          2040,
          2045,
          2050,
          2015,
          2020,
          2025,
          2030,
          2035,
          2040,
          2045,
          2050,
          2015,
          2020,
          2025,
          2030,
          2035,
          2040,
          2045,
          2050,
          2015,
          2020,
          2025,
          2030,
          2035,
          2040,
          2045,
          2050,
          2015,
          2020,
          2025,
          2030,
          2035,
          2040,
          2045,
          2050
         ],
         "y": [
          1503,
          1855,
          4930,
          11034,
          17582,
          19380,
          19142,
          18839
         ]
        },
        {
         "fillcolor": "rgb(103, 154, 199)",
         "hoverinfo": "none",
         "line": {
          "color": "rgb(103, 154, 199)",
          "width": 0.5
         },
         "mode": "lines",
         "stackgroup": "one",
         "type": "scatter",
         "x": [
          2015,
          2020,
          2025,
          2030,
          2035,
          2040,
          2045,
          2050,
          2015,
          2020,
          2025,
          2030,
          2035,
          2040,
          2045,
          2050,
          2015,
          2020,
          2025,
          2030,
          2035,
          2040,
          2045,
          2050,
          2015,
          2020,
          2025,
          2030,
          2035,
          2040,
          2045,
          2050,
          2015,
          2020,
          2025,
          2030,
          2035,
          2040,
          2045,
          2050,
          2015,
          2020,
          2025,
          2030,
          2035,
          2040,
          2045,
          2050
         ],
         "y": [
          95682,
          98540,
          74292,
          48646,
          30531,
          24055,
          20974,
          18871
         ]
        },
        {
         "fillcolor": "rgb(173, 176, 182)",
         "hoverinfo": "none",
         "line": {
          "color": "rgb(173, 176, 182)",
          "width": 0.5
         },
         "mode": "lines",
         "stackgroup": "one",
         "type": "scatter",
         "x": [
          2015,
          2020,
          2025,
          2030,
          2035,
          2040,
          2045,
          2050,
          2015,
          2020,
          2025,
          2030,
          2035,
          2040,
          2045,
          2050,
          2015,
          2020,
          2025,
          2030,
          2035,
          2040,
          2045,
          2050,
          2015,
          2020,
          2025,
          2030,
          2035,
          2040,
          2045,
          2050,
          2015,
          2020,
          2025,
          2030,
          2035,
          2040,
          2045,
          2050,
          2015,
          2020,
          2025,
          2030,
          2035,
          2040,
          2045,
          2050
         ],
         "y": [
          30591,
          33856,
          38010,
          43105,
          47169,
          50266,
          53485,
          56877
         ]
        },
        {
         "fillcolor": "rgb(116, 125, 140)",
         "hoverinfo": "none",
         "line": {
          "color": "rgb(116, 125, 140)",
          "width": 0.5
         },
         "mode": "lines",
         "stackgroup": "one",
         "type": "scatter",
         "x": [
          2015,
          2020,
          2025,
          2030,
          2035,
          2040,
          2045,
          2050,
          2015,
          2020,
          2025,
          2030,
          2035,
          2040,
          2045,
          2050,
          2015,
          2020,
          2025,
          2030,
          2035,
          2040,
          2045,
          2050,
          2015,
          2020,
          2025,
          2030,
          2035,
          2040,
          2045,
          2050,
          2015,
          2020,
          2025,
          2030,
          2035,
          2040,
          2045,
          2050,
          2015,
          2020,
          2025,
          2030,
          2035,
          2040,
          2045,
          2050
         ],
         "y": [
          82970,
          85661,
          75498,
          64083,
          53675,
          48983,
          44778,
          41695
         ]
        },
        {
         "fillcolor": "rgb(232, 129, 184)",
         "hoverinfo": "none",
         "line": {
          "color": "rgb(232, 129, 184)",
          "width": 0.5
         },
         "mode": "lines",
         "stackgroup": "one",
         "type": "scatter",
         "x": [
          2015,
          2020,
          2025,
          2030,
          2035,
          2040,
          2045,
          2050,
          2015,
          2020,
          2025,
          2030,
          2035,
          2040,
          2045,
          2050,
          2015,
          2020,
          2025,
          2030,
          2035,
          2040,
          2045,
          2050,
          2015,
          2020,
          2025,
          2030,
          2035,
          2040,
          2045,
          2050,
          2015,
          2020,
          2025,
          2030,
          2035,
          2040,
          2045,
          2050,
          2015,
          2020,
          2025,
          2030,
          2035,
          2040,
          2045,
          2050
         ],
         "y": [
          40640,
          45183,
          49102,
          52520,
          57000,
          62762,
          68733,
          74438
         ]
        },
        {
         "fillcolor": "rgba(200, 22,109,1)",
         "hoverinfo": "none",
         "line": {
          "color": "rgba(200, 22,109,1)",
          "width": 0.5
         },
         "mode": "lines",
         "stackgroup": "one",
         "type": "scatter",
         "x": [
          2015,
          2020,
          2025,
          2030,
          2035,
          2040,
          2045,
          2050,
          2015,
          2020,
          2025,
          2030,
          2035,
          2040,
          2045,
          2050,
          2015,
          2020,
          2025,
          2030,
          2035,
          2040,
          2045,
          2050,
          2015,
          2020,
          2025,
          2030,
          2035,
          2040,
          2045,
          2050,
          2015,
          2020,
          2025,
          2030,
          2035,
          2040,
          2045,
          2050,
          2015,
          2020,
          2025,
          2030,
          2035,
          2040,
          2045,
          2050
         ],
         "y": [
          90503,
          90005,
          78634,
          64757,
          56742,
          51398,
          46601,
          42430
         ]
        },
        {
         "hoverinfo": "x+y+text",
         "hovertext": [
          "RE Share2.0%electrification",
          "RE Share 18.0% electrification",
          "RE Share 45.0% electrification",
          "RE Share 50.0% electrification"
         ],
         "marker": {
          "color": "white",
          "size": 5
         },
         "mode": "markers",
         "type": "scatter",
         "x": [
          2020,
          2030,
          2040,
          2050
         ],
         "y": [
          1855,
          11034,
          19380,
          18839
         ]
        },
        {
         "hoverinfo": "x+y+text",
         "hovertext": [
          "RE Share 28.000000000000004% electrification",
          "RE Share 40.0% electrification",
          "RE Share 51.0% electrification",
          "RE Share 57.99999999999999% electrification"
         ],
         "marker": {
          "color": "white",
          "size": 5
         },
         "mode": "markers",
         "type": "scatter",
         "x": [
          2020,
          2030,
          2040,
          2050
         ],
         "y": [
          134251,
          102785,
          93701,
          94587
         ]
        },
        {
         "hoverinfo": "x+y+text",
         "hovertext": [
          "RE Share 33.0% electrification",
          "RE Share 45.0% electrification",
          "RE Share 55.00000000000001% electrification",
          "RE Share 64.0% electrification"
         ],
         "marker": {
          "color": "white",
          "size": 5
         },
         "mode": "markers",
         "type": "scatter",
         "x": [
          2020,
          2030,
          2040,
          2050
         ],
         "y": [
          265095,
          219388,
          205446,
          210720
         ]
        }
       ],
       "layout": {
        "annotations": [
         {
          "font": {
           "color": "white",
           "family": "Arial",
           "size": 15
          },
          "showarrow": false,
          "text": "Building/Other",
          "x": 2015,
          "xanchor": "left",
          "xref": "x",
          "y": 320000,
          "yanchor": "bottom",
          "yref": "y"
         },
         {
          "font": {
           "color": "white",
           "family": "Arial",
           "size": 15
          },
          "showarrow": false,
          "text": "Industry",
          "x": 2015,
          "xanchor": "left",
          "xref": "x",
          "y": 190000,
          "yanchor": "bottom",
          "yref": "y"
         },
         {
          "font": {
           "color": "white",
           "family": "Arial",
           "size": 15
          },
          "showarrow": false,
          "text": "Transportation",
          "x": 2015,
          "xanchor": "left",
          "xref": "x",
          "y": 80000,
          "yanchor": "bottom",
          "yref": "y"
         },
         {
          "font": {
           "color": "black",
           "family": "Arial",
           "size": 10
          },
          "showarrow": false,
          "text": "On-site energy",
          "x": 2015,
          "xanchor": "left",
          "xref": "x",
          "y": 310000,
          "yanchor": "bottom",
          "yref": "y"
         },
         {
          "font": {
           "color": "black",
           "family": "Arial",
           "size": 10
          },
          "showarrow": false,
          "text": "Electric power",
          "x": 2015,
          "xanchor": "left",
          "xref": "x",
          "y": 240000,
          "yanchor": "bottom",
          "yref": "y"
         },
         {
          "font": {
           "color": "black",
           "family": "Arial",
           "size": 10
          },
          "showarrow": false,
          "text": "On-site energy",
          "x": 2015,
          "xanchor": "left",
          "xref": "x",
          "y": 180000,
          "yanchor": "bottom",
          "yref": "y"
         },
         {
          "font": {
           "color": "black",
           "family": "Arial",
           "size": 10
          },
          "showarrow": false,
          "text": "Electric power",
          "x": 2015,
          "xanchor": "left",
          "xref": "x",
          "y": 110000,
          "yanchor": "bottom",
          "yref": "y"
         },
         {
          "font": {
           "color": "black",
           "family": "Arial",
           "size": 10
          },
          "showarrow": false,
          "text": "On-board fuels",
          "x": 2015,
          "xanchor": "left",
          "xref": "x",
          "y": 70000,
          "yanchor": "bottom",
          "yref": "y"
         },
         {
          "font": {
           "color": "black",
           "family": "Arial",
           "size": 10
          },
          "showarrow": false,
          "text": "Electric power",
          "x": 2015,
          "xanchor": "left",
          "xref": "x",
          "y": 10000,
          "yanchor": "bottom",
          "yref": "y"
         }
        ],
        "autosize": false,
        "height": 500,
        "paper_bgcolor": "rgb(0,0,0,0)",
        "plot_bgcolor": "rgba(0,0,0,0)",
        "shapes": [
         {
          "line": {
           "color": "White",
           "dash": "dot",
           "width": 1
          },
          "type": "line",
          "x0": 2020,
          "x1": 2020,
          "xref": "x",
          "y0": 0,
          "y1": 355100,
          "yref": "y"
         },
         {
          "line": {
           "color": "White",
           "dash": "dot",
           "width": 1
          },
          "type": "line",
          "x0": 2030,
          "x1": 2030,
          "xref": "x",
          "y0": 0,
          "y1": 284145,
          "yref": "y"
         },
         {
          "line": {
           "color": "White",
           "dash": "dot",
           "width": 1
          },
          "type": "line",
          "x0": 2040,
          "x1": 2040,
          "xref": "x",
          "y0": 0,
          "y1": 256844,
          "yref": "y"
         },
         {
          "line": {
           "color": "White",
           "dash": "dot",
           "width": 1
          },
          "type": "line",
          "x0": 2050,
          "x1": 2050,
          "xref": "x",
          "y0": 0,
          "y1": 253150,
          "yref": "y"
         }
        ],
        "showlegend": false,
        "template": {
         "data": {
          "bar": [
           {
            "error_x": {
             "color": "#2a3f5f"
            },
            "error_y": {
             "color": "#2a3f5f"
            },
            "marker": {
             "line": {
              "color": "#E5ECF6",
              "width": 0.5
             }
            },
            "type": "bar"
           }
          ],
          "barpolar": [
           {
            "marker": {
             "line": {
              "color": "#E5ECF6",
              "width": 0.5
             }
            },
            "type": "barpolar"
           }
          ],
          "carpet": [
           {
            "aaxis": {
             "endlinecolor": "#2a3f5f",
             "gridcolor": "white",
             "linecolor": "white",
             "minorgridcolor": "white",
             "startlinecolor": "#2a3f5f"
            },
            "baxis": {
             "endlinecolor": "#2a3f5f",
             "gridcolor": "white",
             "linecolor": "white",
             "minorgridcolor": "white",
             "startlinecolor": "#2a3f5f"
            },
            "type": "carpet"
           }
          ],
          "choropleth": [
           {
            "colorbar": {
             "outlinewidth": 0,
             "ticks": ""
            },
            "type": "choropleth"
           }
          ],
          "contour": [
           {
            "colorbar": {
             "outlinewidth": 0,
             "ticks": ""
            },
            "colorscale": [
             [
              0,
              "#0d0887"
             ],
             [
              0.1111111111111111,
              "#46039f"
             ],
             [
              0.2222222222222222,
              "#7201a8"
             ],
             [
              0.3333333333333333,
              "#9c179e"
             ],
             [
              0.4444444444444444,
              "#bd3786"
             ],
             [
              0.5555555555555556,
              "#d8576b"
             ],
             [
              0.6666666666666666,
              "#ed7953"
             ],
             [
              0.7777777777777778,
              "#fb9f3a"
             ],
             [
              0.8888888888888888,
              "#fdca26"
             ],
             [
              1,
              "#f0f921"
             ]
            ],
            "type": "contour"
           }
          ],
          "contourcarpet": [
           {
            "colorbar": {
             "outlinewidth": 0,
             "ticks": ""
            },
            "type": "contourcarpet"
           }
          ],
          "heatmap": [
           {
            "colorbar": {
             "outlinewidth": 0,
             "ticks": ""
            },
            "colorscale": [
             [
              0,
              "#0d0887"
             ],
             [
              0.1111111111111111,
              "#46039f"
             ],
             [
              0.2222222222222222,
              "#7201a8"
             ],
             [
              0.3333333333333333,
              "#9c179e"
             ],
             [
              0.4444444444444444,
              "#bd3786"
             ],
             [
              0.5555555555555556,
              "#d8576b"
             ],
             [
              0.6666666666666666,
              "#ed7953"
             ],
             [
              0.7777777777777778,
              "#fb9f3a"
             ],
             [
              0.8888888888888888,
              "#fdca26"
             ],
             [
              1,
              "#f0f921"
             ]
            ],
            "type": "heatmap"
           }
          ],
          "heatmapgl": [
           {
            "colorbar": {
             "outlinewidth": 0,
             "ticks": ""
            },
            "colorscale": [
             [
              0,
              "#0d0887"
             ],
             [
              0.1111111111111111,
              "#46039f"
             ],
             [
              0.2222222222222222,
              "#7201a8"
             ],
             [
              0.3333333333333333,
              "#9c179e"
             ],
             [
              0.4444444444444444,
              "#bd3786"
             ],
             [
              0.5555555555555556,
              "#d8576b"
             ],
             [
              0.6666666666666666,
              "#ed7953"
             ],
             [
              0.7777777777777778,
              "#fb9f3a"
             ],
             [
              0.8888888888888888,
              "#fdca26"
             ],
             [
              1,
              "#f0f921"
             ]
            ],
            "type": "heatmapgl"
           }
          ],
          "histogram": [
           {
            "marker": {
             "colorbar": {
              "outlinewidth": 0,
              "ticks": ""
             }
            },
            "type": "histogram"
           }
          ],
          "histogram2d": [
           {
            "colorbar": {
             "outlinewidth": 0,
             "ticks": ""
            },
            "colorscale": [
             [
              0,
              "#0d0887"
             ],
             [
              0.1111111111111111,
              "#46039f"
             ],
             [
              0.2222222222222222,
              "#7201a8"
             ],
             [
              0.3333333333333333,
              "#9c179e"
             ],
             [
              0.4444444444444444,
              "#bd3786"
             ],
             [
              0.5555555555555556,
              "#d8576b"
             ],
             [
              0.6666666666666666,
              "#ed7953"
             ],
             [
              0.7777777777777778,
              "#fb9f3a"
             ],
             [
              0.8888888888888888,
              "#fdca26"
             ],
             [
              1,
              "#f0f921"
             ]
            ],
            "type": "histogram2d"
           }
          ],
          "histogram2dcontour": [
           {
            "colorbar": {
             "outlinewidth": 0,
             "ticks": ""
            },
            "colorscale": [
             [
              0,
              "#0d0887"
             ],
             [
              0.1111111111111111,
              "#46039f"
             ],
             [
              0.2222222222222222,
              "#7201a8"
             ],
             [
              0.3333333333333333,
              "#9c179e"
             ],
             [
              0.4444444444444444,
              "#bd3786"
             ],
             [
              0.5555555555555556,
              "#d8576b"
             ],
             [
              0.6666666666666666,
              "#ed7953"
             ],
             [
              0.7777777777777778,
              "#fb9f3a"
             ],
             [
              0.8888888888888888,
              "#fdca26"
             ],
             [
              1,
              "#f0f921"
             ]
            ],
            "type": "histogram2dcontour"
           }
          ],
          "mesh3d": [
           {
            "colorbar": {
             "outlinewidth": 0,
             "ticks": ""
            },
            "type": "mesh3d"
           }
          ],
          "parcoords": [
           {
            "line": {
             "colorbar": {
              "outlinewidth": 0,
              "ticks": ""
             }
            },
            "type": "parcoords"
           }
          ],
          "pie": [
           {
            "automargin": true,
            "type": "pie"
           }
          ],
          "scatter": [
           {
            "marker": {
             "colorbar": {
              "outlinewidth": 0,
              "ticks": ""
             }
            },
            "type": "scatter"
           }
          ],
          "scatter3d": [
           {
            "line": {
             "colorbar": {
              "outlinewidth": 0,
              "ticks": ""
             }
            },
            "marker": {
             "colorbar": {
              "outlinewidth": 0,
              "ticks": ""
             }
            },
            "type": "scatter3d"
           }
          ],
          "scattercarpet": [
           {
            "marker": {
             "colorbar": {
              "outlinewidth": 0,
              "ticks": ""
             }
            },
            "type": "scattercarpet"
           }
          ],
          "scattergeo": [
           {
            "marker": {
             "colorbar": {
              "outlinewidth": 0,
              "ticks": ""
             }
            },
            "type": "scattergeo"
           }
          ],
          "scattergl": [
           {
            "marker": {
             "colorbar": {
              "outlinewidth": 0,
              "ticks": ""
             }
            },
            "type": "scattergl"
           }
          ],
          "scattermapbox": [
           {
            "marker": {
             "colorbar": {
              "outlinewidth": 0,
              "ticks": ""
             }
            },
            "type": "scattermapbox"
           }
          ],
          "scatterpolar": [
           {
            "marker": {
             "colorbar": {
              "outlinewidth": 0,
              "ticks": ""
             }
            },
            "type": "scatterpolar"
           }
          ],
          "scatterpolargl": [
           {
            "marker": {
             "colorbar": {
              "outlinewidth": 0,
              "ticks": ""
             }
            },
            "type": "scatterpolargl"
           }
          ],
          "scatterternary": [
           {
            "marker": {
             "colorbar": {
              "outlinewidth": 0,
              "ticks": ""
             }
            },
            "type": "scatterternary"
           }
          ],
          "surface": [
           {
            "colorbar": {
             "outlinewidth": 0,
             "ticks": ""
            },
            "colorscale": [
             [
              0,
              "#0d0887"
             ],
             [
              0.1111111111111111,
              "#46039f"
             ],
             [
              0.2222222222222222,
              "#7201a8"
             ],
             [
              0.3333333333333333,
              "#9c179e"
             ],
             [
              0.4444444444444444,
              "#bd3786"
             ],
             [
              0.5555555555555556,
              "#d8576b"
             ],
             [
              0.6666666666666666,
              "#ed7953"
             ],
             [
              0.7777777777777778,
              "#fb9f3a"
             ],
             [
              0.8888888888888888,
              "#fdca26"
             ],
             [
              1,
              "#f0f921"
             ]
            ],
            "type": "surface"
           }
          ],
          "table": [
           {
            "cells": {
             "fill": {
              "color": "#EBF0F8"
             },
             "line": {
              "color": "white"
             }
            },
            "header": {
             "fill": {
              "color": "#C8D4E3"
             },
             "line": {
              "color": "white"
             }
            },
            "type": "table"
           }
          ]
         },
         "layout": {
          "annotationdefaults": {
           "arrowcolor": "#2a3f5f",
           "arrowhead": 0,
           "arrowwidth": 1
          },
          "coloraxis": {
           "colorbar": {
            "outlinewidth": 0,
            "ticks": ""
           }
          },
          "colorscale": {
           "diverging": [
            [
             0,
             "#8e0152"
            ],
            [
             0.1,
             "#c51b7d"
            ],
            [
             0.2,
             "#de77ae"
            ],
            [
             0.3,
             "#f1b6da"
            ],
            [
             0.4,
             "#fde0ef"
            ],
            [
             0.5,
             "#f7f7f7"
            ],
            [
             0.6,
             "#e6f5d0"
            ],
            [
             0.7,
             "#b8e186"
            ],
            [
             0.8,
             "#7fbc41"
            ],
            [
             0.9,
             "#4d9221"
            ],
            [
             1,
             "#276419"
            ]
           ],
           "sequential": [
            [
             0,
             "#0d0887"
            ],
            [
             0.1111111111111111,
             "#46039f"
            ],
            [
             0.2222222222222222,
             "#7201a8"
            ],
            [
             0.3333333333333333,
             "#9c179e"
            ],
            [
             0.4444444444444444,
             "#bd3786"
            ],
            [
             0.5555555555555556,
             "#d8576b"
            ],
            [
             0.6666666666666666,
             "#ed7953"
            ],
            [
             0.7777777777777778,
             "#fb9f3a"
            ],
            [
             0.8888888888888888,
             "#fdca26"
            ],
            [
             1,
             "#f0f921"
            ]
           ],
           "sequentialminus": [
            [
             0,
             "#0d0887"
            ],
            [
             0.1111111111111111,
             "#46039f"
            ],
            [
             0.2222222222222222,
             "#7201a8"
            ],
            [
             0.3333333333333333,
             "#9c179e"
            ],
            [
             0.4444444444444444,
             "#bd3786"
            ],
            [
             0.5555555555555556,
             "#d8576b"
            ],
            [
             0.6666666666666666,
             "#ed7953"
            ],
            [
             0.7777777777777778,
             "#fb9f3a"
            ],
            [
             0.8888888888888888,
             "#fdca26"
            ],
            [
             1,
             "#f0f921"
            ]
           ]
          },
          "colorway": [
           "#636efa",
           "#EF553B",
           "#00cc96",
           "#ab63fa",
           "#FFA15A",
           "#19d3f3",
           "#FF6692",
           "#B6E880",
           "#FF97FF",
           "#FECB52"
          ],
          "font": {
           "color": "#2a3f5f"
          },
          "geo": {
           "bgcolor": "white",
           "lakecolor": "white",
           "landcolor": "#E5ECF6",
           "showlakes": true,
           "showland": true,
           "subunitcolor": "white"
          },
          "hoverlabel": {
           "align": "left"
          },
          "hovermode": "closest",
          "mapbox": {
           "style": "light"
          },
          "paper_bgcolor": "white",
          "plot_bgcolor": "#E5ECF6",
          "polar": {
           "angularaxis": {
            "gridcolor": "white",
            "linecolor": "white",
            "ticks": ""
           },
           "bgcolor": "#E5ECF6",
           "radialaxis": {
            "gridcolor": "white",
            "linecolor": "white",
            "ticks": ""
           }
          },
          "scene": {
           "xaxis": {
            "backgroundcolor": "#E5ECF6",
            "gridcolor": "white",
            "gridwidth": 2,
            "linecolor": "white",
            "showbackground": true,
            "ticks": "",
            "zerolinecolor": "white"
           },
           "yaxis": {
            "backgroundcolor": "#E5ECF6",
            "gridcolor": "white",
            "gridwidth": 2,
            "linecolor": "white",
            "showbackground": true,
            "ticks": "",
            "zerolinecolor": "white"
           },
           "zaxis": {
            "backgroundcolor": "#E5ECF6",
            "gridcolor": "white",
            "gridwidth": 2,
            "linecolor": "white",
            "showbackground": true,
            "ticks": "",
            "zerolinecolor": "white"
           }
          },
          "shapedefaults": {
           "line": {
            "color": "#2a3f5f"
           }
          },
          "ternary": {
           "aaxis": {
            "gridcolor": "white",
            "linecolor": "white",
            "ticks": ""
           },
           "baxis": {
            "gridcolor": "white",
            "linecolor": "white",
            "ticks": ""
           },
           "bgcolor": "#E5ECF6",
           "caxis": {
            "gridcolor": "white",
            "linecolor": "white",
            "ticks": ""
           }
          },
          "title": {
           "x": 0.05
          },
          "xaxis": {
           "automargin": true,
           "gridcolor": "white",
           "linecolor": "white",
           "ticks": "",
           "title": {
            "standoff": 15
           },
           "zerolinecolor": "white",
           "zerolinewidth": 2
          },
          "yaxis": {
           "automargin": true,
           "gridcolor": "white",
           "linecolor": "white",
           "ticks": "",
           "title": {
            "standoff": 15
           },
           "zerolinecolor": "white",
           "zerolinewidth": 2
          }
         }
        },
        "title": {
         "font": {
          "color": "black",
          "size": 15
         },
         "text": "Global Electrification to Achieve the 1.5C Goal"
        },
        "width": 650,
        "xaxis": {
         "tickmode": "array",
         "ticktext": [
          "2015",
          "2020",
          "2025",
          "2030",
          "2035",
          "2040",
          "2045",
          "2050"
         ],
         "tickvals": [
          2015,
          2020,
          2025,
          2030,
          2035,
          2040,
          2045,
          2050
         ]
        },
        "yaxis": {
         "range": [
          0,
          360000
         ],
         "tickmode": "array",
         "ticktext": [
          "50,000",
          "100,000",
          "150,000",
          "200,000",
          "250,000",
          "300,000",
          "350,000"
         ],
         "tickvals": [
          50000,
          100000,
          150000,
          200000,
          250000,
          300000,
          350000
         ],
         "title": {
          "font": {
           "color": "Black",
           "family": "Arial",
           "size": 15
          },
          "standoff": 5,
          "text": "Final Energy Demand (PJ)"
         }
        }
       }
      },
      "text/html": [
       "<div>                            <div id=\"11fbb73a-aa4d-40bb-9a3a-2a1fd05dc33c\" class=\"plotly-graph-div\" style=\"height:500px; width:650px;\"></div>            <script type=\"text/javascript\">                require([\"plotly\"], function(Plotly) {                    window.PLOTLYENV=window.PLOTLYENV || {};                                    if (document.getElementById(\"11fbb73a-aa4d-40bb-9a3a-2a1fd05dc33c\")) {                    Plotly.newPlot(                        \"11fbb73a-aa4d-40bb-9a3a-2a1fd05dc33c\",                        [{\"fillcolor\": \"rgba(193, 224, 236,100)\", \"hoverinfo\": \"none\", \"line\": {\"color\": \"rgba(193, 224, 236,100)\", \"width\": 0.5}, \"mode\": \"lines\", \"stackgroup\": \"one\", \"type\": \"scatter\", \"x\": [2015, 2020, 2025, 2030, 2035, 2040, 2045, 2050, 2015, 2020, 2025, 2030, 2035, 2040, 2045, 2050, 2015, 2020, 2025, 2030, 2035, 2040, 2045, 2050, 2015, 2020, 2025, 2030, 2035, 2040, 2045, 2050, 2015, 2020, 2025, 2030, 2035, 2040, 2045, 2050, 2015, 2020, 2025, 2030, 2035, 2040, 2045, 2050], \"y\": [1503, 1855, 4930, 11034, 17582, 19380, 19142, 18839]}, {\"fillcolor\": \"rgb(103, 154, 199)\", \"hoverinfo\": \"none\", \"line\": {\"color\": \"rgb(103, 154, 199)\", \"width\": 0.5}, \"mode\": \"lines\", \"stackgroup\": \"one\", \"type\": \"scatter\", \"x\": [2015, 2020, 2025, 2030, 2035, 2040, 2045, 2050, 2015, 2020, 2025, 2030, 2035, 2040, 2045, 2050, 2015, 2020, 2025, 2030, 2035, 2040, 2045, 2050, 2015, 2020, 2025, 2030, 2035, 2040, 2045, 2050, 2015, 2020, 2025, 2030, 2035, 2040, 2045, 2050, 2015, 2020, 2025, 2030, 2035, 2040, 2045, 2050], \"y\": [95682, 98540, 74292, 48646, 30531, 24055, 20974, 18871]}, {\"fillcolor\": \"rgb(173, 176, 182)\", \"hoverinfo\": \"none\", \"line\": {\"color\": \"rgb(173, 176, 182)\", \"width\": 0.5}, \"mode\": \"lines\", \"stackgroup\": \"one\", \"type\": \"scatter\", \"x\": [2015, 2020, 2025, 2030, 2035, 2040, 2045, 2050, 2015, 2020, 2025, 2030, 2035, 2040, 2045, 2050, 2015, 2020, 2025, 2030, 2035, 2040, 2045, 2050, 2015, 2020, 2025, 2030, 2035, 2040, 2045, 2050, 2015, 2020, 2025, 2030, 2035, 2040, 2045, 2050, 2015, 2020, 2025, 2030, 2035, 2040, 2045, 2050], \"y\": [30591, 33856, 38010, 43105, 47169, 50266, 53485, 56877]}, {\"fillcolor\": \"rgb(116, 125, 140)\", \"hoverinfo\": \"none\", \"line\": {\"color\": \"rgb(116, 125, 140)\", \"width\": 0.5}, \"mode\": \"lines\", \"stackgroup\": \"one\", \"type\": \"scatter\", \"x\": [2015, 2020, 2025, 2030, 2035, 2040, 2045, 2050, 2015, 2020, 2025, 2030, 2035, 2040, 2045, 2050, 2015, 2020, 2025, 2030, 2035, 2040, 2045, 2050, 2015, 2020, 2025, 2030, 2035, 2040, 2045, 2050, 2015, 2020, 2025, 2030, 2035, 2040, 2045, 2050, 2015, 2020, 2025, 2030, 2035, 2040, 2045, 2050], \"y\": [82970, 85661, 75498, 64083, 53675, 48983, 44778, 41695]}, {\"fillcolor\": \"rgb(232, 129, 184)\", \"hoverinfo\": \"none\", \"line\": {\"color\": \"rgb(232, 129, 184)\", \"width\": 0.5}, \"mode\": \"lines\", \"stackgroup\": \"one\", \"type\": \"scatter\", \"x\": [2015, 2020, 2025, 2030, 2035, 2040, 2045, 2050, 2015, 2020, 2025, 2030, 2035, 2040, 2045, 2050, 2015, 2020, 2025, 2030, 2035, 2040, 2045, 2050, 2015, 2020, 2025, 2030, 2035, 2040, 2045, 2050, 2015, 2020, 2025, 2030, 2035, 2040, 2045, 2050, 2015, 2020, 2025, 2030, 2035, 2040, 2045, 2050], \"y\": [40640, 45183, 49102, 52520, 57000, 62762, 68733, 74438]}, {\"fillcolor\": \"rgba(200, 22,109,1)\", \"hoverinfo\": \"none\", \"line\": {\"color\": \"rgba(200, 22,109,1)\", \"width\": 0.5}, \"mode\": \"lines\", \"stackgroup\": \"one\", \"type\": \"scatter\", \"x\": [2015, 2020, 2025, 2030, 2035, 2040, 2045, 2050, 2015, 2020, 2025, 2030, 2035, 2040, 2045, 2050, 2015, 2020, 2025, 2030, 2035, 2040, 2045, 2050, 2015, 2020, 2025, 2030, 2035, 2040, 2045, 2050, 2015, 2020, 2025, 2030, 2035, 2040, 2045, 2050, 2015, 2020, 2025, 2030, 2035, 2040, 2045, 2050], \"y\": [90503, 90005, 78634, 64757, 56742, 51398, 46601, 42430]}, {\"hoverinfo\": \"x+y+text\", \"hovertext\": [\"RE Share2.0%electrification\", \"RE Share 18.0% electrification\", \"RE Share 45.0% electrification\", \"RE Share 50.0% electrification\"], \"marker\": {\"color\": \"white\", \"size\": 5}, \"mode\": \"markers\", \"type\": \"scatter\", \"x\": [2020, 2030, 2040, 2050], \"y\": [1855, 11034, 19380, 18839]}, {\"hoverinfo\": \"x+y+text\", \"hovertext\": [\"RE Share 28.000000000000004% electrification\", \"RE Share 40.0% electrification\", \"RE Share 51.0% electrification\", \"RE Share 57.99999999999999% electrification\"], \"marker\": {\"color\": \"white\", \"size\": 5}, \"mode\": \"markers\", \"type\": \"scatter\", \"x\": [2020, 2030, 2040, 2050], \"y\": [134251, 102785, 93701, 94587]}, {\"hoverinfo\": \"x+y+text\", \"hovertext\": [\"RE Share 33.0% electrification\", \"RE Share 45.0% electrification\", \"RE Share 55.00000000000001% electrification\", \"RE Share 64.0% electrification\"], \"marker\": {\"color\": \"white\", \"size\": 5}, \"mode\": \"markers\", \"type\": \"scatter\", \"x\": [2020, 2030, 2040, 2050], \"y\": [265095, 219388, 205446, 210720]}],                        {\"annotations\": [{\"font\": {\"color\": \"white\", \"family\": \"Arial\", \"size\": 15}, \"showarrow\": false, \"text\": \"Building/Other\", \"x\": 2015, \"xanchor\": \"left\", \"xref\": \"x\", \"y\": 320000, \"yanchor\": \"bottom\", \"yref\": \"y\"}, {\"font\": {\"color\": \"white\", \"family\": \"Arial\", \"size\": 15}, \"showarrow\": false, \"text\": \"Industry\", \"x\": 2015, \"xanchor\": \"left\", \"xref\": \"x\", \"y\": 190000, \"yanchor\": \"bottom\", \"yref\": \"y\"}, {\"font\": {\"color\": \"white\", \"family\": \"Arial\", \"size\": 15}, \"showarrow\": false, \"text\": \"Transportation\", \"x\": 2015, \"xanchor\": \"left\", \"xref\": \"x\", \"y\": 80000, \"yanchor\": \"bottom\", \"yref\": \"y\"}, {\"font\": {\"color\": \"black\", \"family\": \"Arial\", \"size\": 10}, \"showarrow\": false, \"text\": \"On-site energy\", \"x\": 2015, \"xanchor\": \"left\", \"xref\": \"x\", \"y\": 310000, \"yanchor\": \"bottom\", \"yref\": \"y\"}, {\"font\": {\"color\": \"black\", \"family\": \"Arial\", \"size\": 10}, \"showarrow\": false, \"text\": \"Electric power\", \"x\": 2015, \"xanchor\": \"left\", \"xref\": \"x\", \"y\": 240000, \"yanchor\": \"bottom\", \"yref\": \"y\"}, {\"font\": {\"color\": \"black\", \"family\": \"Arial\", \"size\": 10}, \"showarrow\": false, \"text\": \"On-site energy\", \"x\": 2015, \"xanchor\": \"left\", \"xref\": \"x\", \"y\": 180000, \"yanchor\": \"bottom\", \"yref\": \"y\"}, {\"font\": {\"color\": \"black\", \"family\": \"Arial\", \"size\": 10}, \"showarrow\": false, \"text\": \"Electric power\", \"x\": 2015, \"xanchor\": \"left\", \"xref\": \"x\", \"y\": 110000, \"yanchor\": \"bottom\", \"yref\": \"y\"}, {\"font\": {\"color\": \"black\", \"family\": \"Arial\", \"size\": 10}, \"showarrow\": false, \"text\": \"On-board fuels\", \"x\": 2015, \"xanchor\": \"left\", \"xref\": \"x\", \"y\": 70000, \"yanchor\": \"bottom\", \"yref\": \"y\"}, {\"font\": {\"color\": \"black\", \"family\": \"Arial\", \"size\": 10}, \"showarrow\": false, \"text\": \"Electric power\", \"x\": 2015, \"xanchor\": \"left\", \"xref\": \"x\", \"y\": 10000, \"yanchor\": \"bottom\", \"yref\": \"y\"}], \"autosize\": false, \"height\": 500, \"paper_bgcolor\": \"rgb(0,0,0,0)\", \"plot_bgcolor\": \"rgba(0,0,0,0)\", \"shapes\": [{\"line\": {\"color\": \"White\", \"dash\": \"dot\", \"width\": 1}, \"type\": \"line\", \"x0\": 2020, \"x1\": 2020, \"xref\": \"x\", \"y0\": 0, \"y1\": 355100, \"yref\": \"y\"}, {\"line\": {\"color\": \"White\", \"dash\": \"dot\", \"width\": 1}, \"type\": \"line\", \"x0\": 2030, \"x1\": 2030, \"xref\": \"x\", \"y0\": 0, \"y1\": 284145, \"yref\": \"y\"}, {\"line\": {\"color\": \"White\", \"dash\": \"dot\", \"width\": 1}, \"type\": \"line\", \"x0\": 2040, \"x1\": 2040, \"xref\": \"x\", \"y0\": 0, \"y1\": 256844, \"yref\": \"y\"}, {\"line\": {\"color\": \"White\", \"dash\": \"dot\", \"width\": 1}, \"type\": \"line\", \"x0\": 2050, \"x1\": 2050, \"xref\": \"x\", \"y0\": 0, \"y1\": 253150, \"yref\": \"y\"}], \"showlegend\": false, \"template\": {\"data\": {\"bar\": [{\"error_x\": {\"color\": \"#2a3f5f\"}, \"error_y\": {\"color\": \"#2a3f5f\"}, \"marker\": {\"line\": {\"color\": \"#E5ECF6\", \"width\": 0.5}}, \"type\": \"bar\"}], \"barpolar\": [{\"marker\": {\"line\": {\"color\": \"#E5ECF6\", \"width\": 0.5}}, \"type\": \"barpolar\"}], \"carpet\": [{\"aaxis\": {\"endlinecolor\": \"#2a3f5f\", \"gridcolor\": \"white\", \"linecolor\": \"white\", \"minorgridcolor\": \"white\", \"startlinecolor\": \"#2a3f5f\"}, \"baxis\": {\"endlinecolor\": \"#2a3f5f\", \"gridcolor\": \"white\", \"linecolor\": \"white\", \"minorgridcolor\": \"white\", \"startlinecolor\": \"#2a3f5f\"}, \"type\": \"carpet\"}], \"choropleth\": [{\"colorbar\": {\"outlinewidth\": 0, \"ticks\": \"\"}, \"type\": \"choropleth\"}], \"contour\": [{\"colorbar\": {\"outlinewidth\": 0, \"ticks\": \"\"}, \"colorscale\": [[0.0, \"#0d0887\"], [0.1111111111111111, \"#46039f\"], [0.2222222222222222, \"#7201a8\"], [0.3333333333333333, \"#9c179e\"], [0.4444444444444444, \"#bd3786\"], [0.5555555555555556, \"#d8576b\"], [0.6666666666666666, \"#ed7953\"], [0.7777777777777778, \"#fb9f3a\"], [0.8888888888888888, \"#fdca26\"], [1.0, \"#f0f921\"]], \"type\": \"contour\"}], \"contourcarpet\": [{\"colorbar\": {\"outlinewidth\": 0, \"ticks\": \"\"}, \"type\": \"contourcarpet\"}], \"heatmap\": [{\"colorbar\": {\"outlinewidth\": 0, \"ticks\": \"\"}, \"colorscale\": [[0.0, \"#0d0887\"], [0.1111111111111111, \"#46039f\"], [0.2222222222222222, \"#7201a8\"], [0.3333333333333333, \"#9c179e\"], [0.4444444444444444, \"#bd3786\"], [0.5555555555555556, \"#d8576b\"], [0.6666666666666666, \"#ed7953\"], [0.7777777777777778, \"#fb9f3a\"], [0.8888888888888888, \"#fdca26\"], [1.0, \"#f0f921\"]], \"type\": \"heatmap\"}], \"heatmapgl\": [{\"colorbar\": {\"outlinewidth\": 0, \"ticks\": \"\"}, \"colorscale\": [[0.0, \"#0d0887\"], [0.1111111111111111, \"#46039f\"], [0.2222222222222222, \"#7201a8\"], [0.3333333333333333, \"#9c179e\"], [0.4444444444444444, \"#bd3786\"], [0.5555555555555556, \"#d8576b\"], [0.6666666666666666, \"#ed7953\"], [0.7777777777777778, \"#fb9f3a\"], [0.8888888888888888, \"#fdca26\"], [1.0, \"#f0f921\"]], \"type\": \"heatmapgl\"}], \"histogram\": [{\"marker\": {\"colorbar\": {\"outlinewidth\": 0, \"ticks\": \"\"}}, \"type\": \"histogram\"}], \"histogram2d\": [{\"colorbar\": {\"outlinewidth\": 0, \"ticks\": \"\"}, \"colorscale\": [[0.0, \"#0d0887\"], [0.1111111111111111, \"#46039f\"], [0.2222222222222222, \"#7201a8\"], [0.3333333333333333, \"#9c179e\"], [0.4444444444444444, \"#bd3786\"], [0.5555555555555556, \"#d8576b\"], [0.6666666666666666, \"#ed7953\"], [0.7777777777777778, \"#fb9f3a\"], [0.8888888888888888, \"#fdca26\"], [1.0, \"#f0f921\"]], \"type\": \"histogram2d\"}], \"histogram2dcontour\": [{\"colorbar\": {\"outlinewidth\": 0, \"ticks\": \"\"}, \"colorscale\": [[0.0, \"#0d0887\"], [0.1111111111111111, \"#46039f\"], [0.2222222222222222, \"#7201a8\"], [0.3333333333333333, \"#9c179e\"], [0.4444444444444444, \"#bd3786\"], [0.5555555555555556, \"#d8576b\"], [0.6666666666666666, \"#ed7953\"], [0.7777777777777778, \"#fb9f3a\"], [0.8888888888888888, \"#fdca26\"], [1.0, \"#f0f921\"]], \"type\": \"histogram2dcontour\"}], \"mesh3d\": [{\"colorbar\": {\"outlinewidth\": 0, \"ticks\": \"\"}, \"type\": \"mesh3d\"}], \"parcoords\": [{\"line\": {\"colorbar\": {\"outlinewidth\": 0, \"ticks\": \"\"}}, \"type\": \"parcoords\"}], \"pie\": [{\"automargin\": true, \"type\": \"pie\"}], \"scatter\": [{\"marker\": {\"colorbar\": {\"outlinewidth\": 0, \"ticks\": \"\"}}, \"type\": \"scatter\"}], \"scatter3d\": [{\"line\": {\"colorbar\": {\"outlinewidth\": 0, \"ticks\": \"\"}}, \"marker\": {\"colorbar\": {\"outlinewidth\": 0, \"ticks\": \"\"}}, \"type\": \"scatter3d\"}], \"scattercarpet\": [{\"marker\": {\"colorbar\": {\"outlinewidth\": 0, \"ticks\": \"\"}}, \"type\": \"scattercarpet\"}], \"scattergeo\": [{\"marker\": {\"colorbar\": {\"outlinewidth\": 0, \"ticks\": \"\"}}, \"type\": \"scattergeo\"}], \"scattergl\": [{\"marker\": {\"colorbar\": {\"outlinewidth\": 0, \"ticks\": \"\"}}, \"type\": \"scattergl\"}], \"scattermapbox\": [{\"marker\": {\"colorbar\": {\"outlinewidth\": 0, \"ticks\": \"\"}}, \"type\": \"scattermapbox\"}], \"scatterpolar\": [{\"marker\": {\"colorbar\": {\"outlinewidth\": 0, \"ticks\": \"\"}}, \"type\": \"scatterpolar\"}], \"scatterpolargl\": [{\"marker\": {\"colorbar\": {\"outlinewidth\": 0, \"ticks\": \"\"}}, \"type\": \"scatterpolargl\"}], \"scatterternary\": [{\"marker\": {\"colorbar\": {\"outlinewidth\": 0, \"ticks\": \"\"}}, \"type\": \"scatterternary\"}], \"surface\": [{\"colorbar\": {\"outlinewidth\": 0, \"ticks\": \"\"}, \"colorscale\": [[0.0, \"#0d0887\"], [0.1111111111111111, \"#46039f\"], [0.2222222222222222, \"#7201a8\"], [0.3333333333333333, \"#9c179e\"], [0.4444444444444444, \"#bd3786\"], [0.5555555555555556, \"#d8576b\"], [0.6666666666666666, \"#ed7953\"], [0.7777777777777778, \"#fb9f3a\"], [0.8888888888888888, \"#fdca26\"], [1.0, \"#f0f921\"]], \"type\": \"surface\"}], \"table\": [{\"cells\": {\"fill\": {\"color\": \"#EBF0F8\"}, \"line\": {\"color\": \"white\"}}, \"header\": {\"fill\": {\"color\": \"#C8D4E3\"}, \"line\": {\"color\": \"white\"}}, \"type\": \"table\"}]}, \"layout\": {\"annotationdefaults\": {\"arrowcolor\": \"#2a3f5f\", \"arrowhead\": 0, \"arrowwidth\": 1}, \"coloraxis\": {\"colorbar\": {\"outlinewidth\": 0, \"ticks\": \"\"}}, \"colorscale\": {\"diverging\": [[0, \"#8e0152\"], [0.1, \"#c51b7d\"], [0.2, \"#de77ae\"], [0.3, \"#f1b6da\"], [0.4, \"#fde0ef\"], [0.5, \"#f7f7f7\"], [0.6, \"#e6f5d0\"], [0.7, \"#b8e186\"], [0.8, \"#7fbc41\"], [0.9, \"#4d9221\"], [1, \"#276419\"]], \"sequential\": [[0.0, \"#0d0887\"], [0.1111111111111111, \"#46039f\"], [0.2222222222222222, \"#7201a8\"], [0.3333333333333333, \"#9c179e\"], [0.4444444444444444, \"#bd3786\"], [0.5555555555555556, \"#d8576b\"], [0.6666666666666666, \"#ed7953\"], [0.7777777777777778, \"#fb9f3a\"], [0.8888888888888888, \"#fdca26\"], [1.0, \"#f0f921\"]], \"sequentialminus\": [[0.0, \"#0d0887\"], [0.1111111111111111, \"#46039f\"], [0.2222222222222222, \"#7201a8\"], [0.3333333333333333, \"#9c179e\"], [0.4444444444444444, \"#bd3786\"], [0.5555555555555556, \"#d8576b\"], [0.6666666666666666, \"#ed7953\"], [0.7777777777777778, \"#fb9f3a\"], [0.8888888888888888, \"#fdca26\"], [1.0, \"#f0f921\"]]}, \"colorway\": [\"#636efa\", \"#EF553B\", \"#00cc96\", \"#ab63fa\", \"#FFA15A\", \"#19d3f3\", \"#FF6692\", \"#B6E880\", \"#FF97FF\", \"#FECB52\"], \"font\": {\"color\": \"#2a3f5f\"}, \"geo\": {\"bgcolor\": \"white\", \"lakecolor\": \"white\", \"landcolor\": \"#E5ECF6\", \"showlakes\": true, \"showland\": true, \"subunitcolor\": \"white\"}, \"hoverlabel\": {\"align\": \"left\"}, \"hovermode\": \"closest\", \"mapbox\": {\"style\": \"light\"}, \"paper_bgcolor\": \"white\", \"plot_bgcolor\": \"#E5ECF6\", \"polar\": {\"angularaxis\": {\"gridcolor\": \"white\", \"linecolor\": \"white\", \"ticks\": \"\"}, \"bgcolor\": \"#E5ECF6\", \"radialaxis\": {\"gridcolor\": \"white\", \"linecolor\": \"white\", \"ticks\": \"\"}}, \"scene\": {\"xaxis\": {\"backgroundcolor\": \"#E5ECF6\", \"gridcolor\": \"white\", \"gridwidth\": 2, \"linecolor\": \"white\", \"showbackground\": true, \"ticks\": \"\", \"zerolinecolor\": \"white\"}, \"yaxis\": {\"backgroundcolor\": \"#E5ECF6\", \"gridcolor\": \"white\", \"gridwidth\": 2, \"linecolor\": \"white\", \"showbackground\": true, \"ticks\": \"\", \"zerolinecolor\": \"white\"}, \"zaxis\": {\"backgroundcolor\": \"#E5ECF6\", \"gridcolor\": \"white\", \"gridwidth\": 2, \"linecolor\": \"white\", \"showbackground\": true, \"ticks\": \"\", \"zerolinecolor\": \"white\"}}, \"shapedefaults\": {\"line\": {\"color\": \"#2a3f5f\"}}, \"ternary\": {\"aaxis\": {\"gridcolor\": \"white\", \"linecolor\": \"white\", \"ticks\": \"\"}, \"baxis\": {\"gridcolor\": \"white\", \"linecolor\": \"white\", \"ticks\": \"\"}, \"bgcolor\": \"#E5ECF6\", \"caxis\": {\"gridcolor\": \"white\", \"linecolor\": \"white\", \"ticks\": \"\"}}, \"title\": {\"x\": 0.05}, \"xaxis\": {\"automargin\": true, \"gridcolor\": \"white\", \"linecolor\": \"white\", \"ticks\": \"\", \"title\": {\"standoff\": 15}, \"zerolinecolor\": \"white\", \"zerolinewidth\": 2}, \"yaxis\": {\"automargin\": true, \"gridcolor\": \"white\", \"linecolor\": \"white\", \"ticks\": \"\", \"title\": {\"standoff\": 15}, \"zerolinecolor\": \"white\", \"zerolinewidth\": 2}}}, \"title\": {\"font\": {\"color\": \"black\", \"size\": 15}, \"text\": \"Global Electrification to Achieve the 1.5C Goal\"}, \"width\": 650, \"xaxis\": {\"tickmode\": \"array\", \"ticktext\": [\"2015\", \"2020\", \"2025\", \"2030\", \"2035\", \"2040\", \"2045\", \"2050\"], \"tickvals\": [2015, 2020, 2025, 2030, 2035, 2040, 2045, 2050]}, \"yaxis\": {\"range\": [0, 360000], \"tickmode\": \"array\", \"ticktext\": [\"50,000\", \"100,000\", \"150,000\", \"200,000\", \"250,000\", \"300,000\", \"350,000\"], \"tickvals\": [50000, 100000, 150000, 200000, 250000, 300000, 350000], \"title\": {\"font\": {\"color\": \"Black\", \"family\": \"Arial\", \"size\": 15}, \"standoff\": 5, \"text\": \"Final Energy Demand (PJ)\"}}},                        {\"responsive\": true}                    ).then(function(){\n",
       "                            \n",
       "var gd = document.getElementById('11fbb73a-aa4d-40bb-9a3a-2a1fd05dc33c');\n",
       "var x = new MutationObserver(function (mutations, observer) {{\n",
       "        var display = window.getComputedStyle(gd).display;\n",
       "        if (!display || display === 'none') {{\n",
       "            console.log([gd, 'removed!']);\n",
       "            Plotly.purge(gd);\n",
       "            observer.disconnect();\n",
       "        }}\n",
       "}});\n",
       "\n",
       "// Listen for the removal of the full notebook cells\n",
       "var notebookContainer = gd.closest('#notebook-container');\n",
       "if (notebookContainer) {{\n",
       "    x.observe(notebookContainer, {childList: true});\n",
       "}}\n",
       "\n",
       "// Listen for the clearing of the current output cell\n",
       "var outputEl = gd.closest('.output');\n",
       "if (outputEl) {{\n",
       "    x.observe(outputEl, {childList: true});\n",
       "}}\n",
       "\n",
       "                        })                };                });            </script>        </div>"
      ]
     },
     "metadata": {},
     "output_type": "display_data"
    }
   ],
   "source": [
    "x = data['Year']\n",
    "Year=[2015,2020,2025,2030,2035,2040,2045,2050]\n",
    "fig = go.Figure()\n",
    "\n",
    "fig.update_yaxes(\n",
    "        title_font=dict(size=15, family='Arial', color='Black'),\n",
    "        title_text = \"Final Energy Demand (PJ)\",\n",
    "        title_standoff = 5)\n",
    "color=['rgba(193, 224, 236,100)','rgb(103, 154, 199)','rgb(173, 176, 182)', 'rgb(116, 125, 140)', 'rgb(232, 129, 184)', 'rgba(200, 22,109,1)']\n",
    "dt=[a,b,c,d,e,f]\n",
    "for (k,col) in zip(dt,color): \n",
    "    fig.add_trace(go.Scatter(\n",
    "        x = x, y = k,\n",
    "        hoverinfo = 'none',\n",
    "        fillcolor = col,\n",
    "        mode = 'lines',\n",
    "        line = dict(width=0.5, color = col),\n",
    "        stackgroup = 'one'\n",
    "    ))\n",
    "\n",
    "fig.update_layout(\n",
    "    title_text=\"Global Electrification to Achieve the 1.5C Goal\",\n",
    "    title_font=dict(size = 15, color = 'black'),\n",
    "    autosize = False,\n",
    "    width = 650,\n",
    "    height = 500,\n",
    "    paper_bgcolor = 'rgb(0,0,0,0)',\n",
    "    plot_bgcolor='rgba(0,0,0,0)',\n",
    "    showlegend = False,\n",
    "    xaxis = dict(\n",
    "    tickmode = 'array',\n",
    "    tickvals = Year,\n",
    "    ticktext = ['2015', '2020','2025','2030','2035','2040','2045','2050']),\n",
    "    yaxis = dict(\n",
    "        tickmode = 'array',\n",
    "        tickvals = [50000, 100000,150000,200000,250000,300000,350000],\n",
    "        ticktext = ['50,000', '100,000','150,000','200,000','250,000','300,000','350,000']\n",
    "    )\n",
    ")\n",
    "X=[2020,2030,2040,2050]\n",
    "for x in X:\n",
    "    fig.add_shape(type=\"line\",xref='x', yref='y', \n",
    "        x0=x, y0=0, x1=x, y1=data.loc[data['Year']==x,'Final Energy Demand'].sum(),\n",
    "        line=dict(\n",
    "            color=\"White\",\n",
    "            width=1,\n",
    "            dash=\"dot\",)) \n",
    "\n",
    "annotations=[]\n",
    "Y=[320000,190000,80000]\n",
    "Text=['Building/Other','Industry','Transportation']\n",
    "for y,t in zip(Y,Text):\n",
    "    annotations.append(dict(xref='x', yref='y',x=2015, y=y,\n",
    "                            xanchor='left', yanchor='bottom',\n",
    "                            text=t,\n",
    "                            font=dict(family='Arial',\n",
    "                            size=15,\n",
    "                            color='white'),\n",
    "                            showarrow=False))\n",
    "Y=[310000,240000,180000,110000,70000,10000]\n",
    "Text=['On-site energy','Electric power','On-site energy','Electric power','On-board fuels','Electric power']\n",
    "for y,t in zip(Y,Text):\n",
    "    annotations.append(dict(xref='x', yref='y', x=2015, y=y,\n",
    "                            xanchor='left', yanchor='bottom',\n",
    "                            text=t,\n",
    "                            font=dict(family='Arial',\n",
    "                            size=10,\n",
    "                            color='black'),\n",
    "                            showarrow=False))\n",
    "fig.update_layout(annotations=annotations)\n",
    "X1=[2020,2030,2040,2050]\n",
    "fig.add_trace(go.Scatter(x = X1 , y = [a[1],a[3],a[5],a[7]], mode = 'markers',marker = dict(color = 'white', size = 5),hovertext=['RE Share'+'{}%'.format(g[1]*100)+'electrification','RE Share'+' {}%'.format(g[3]*100)+' electrification','RE Share'+' {}%'.format(g[5]*100)+' electrification','RE Share'+' {}%'.format(g[7]*100)+' electrification'],hoverinfo = 'x+y+text'))\n",
    "fig.add_trace(go.Scatter(x = X1 , y = [a[1]+b[1]+c[1],a[3]+b[3]+c[3],a[5]+b[5]+c[5],a[7]+b[7]+c[7]],mode = 'markers',marker = dict(color = 'white', size = 5),hovertext=['RE Share'+' {}%'.format(h[1]*100)+' electrification','RE Share'+' {}%'.format(h[3]*100)+' electrification','RE Share'+' {}%'.format(h[5]*100)+' electrification','RE Share'+' {}%'.format(h[7]*100)+' electrification'],hoverinfo = 'x+y+text'))\n",
    "fig.add_trace(go.Scatter(x = X1 , y = [a[1]+b[1]+c[1]+d[1]+e[1],a[3]+b[3]+c[3]+d[3]+e[3],a[5]+b[5]+c[5]+d[5]+e[5],a[7]+b[7]+c[7]+d[7]+e[7]],mode = 'markers',marker = dict(color = 'white', size = 5),hovertext=['RE Share'+' {}%'.format(I[1]*100)+' electrification','RE Share'+' {}%'.format(I[3]*100)+' electrification','RE Share'+' {}%'.format(I[5]*100)+' electrification','RE Share'+' {}%'.format(I[7]*100)+' electrification'],hoverinfo = 'x+y+text'))\n",
    "fig.update_layout(yaxis_range=(0,360000))"
   ]
  },
  {
   "cell_type": "code",
   "execution_count": null,
   "metadata": {},
   "outputs": [],
   "source": []
  }
 ],
 "metadata": {
  "kernelspec": {
   "display_name": "Python 3",
   "language": "python",
   "name": "python3"
  },
  "language_info": {
   "codemirror_mode": {
    "name": "ipython",
    "version": 3
   },
   "file_extension": ".py",
   "mimetype": "text/x-python",
   "name": "python",
   "nbconvert_exporter": "python",
   "pygments_lexer": "ipython3",
   "version": "3.8.3"
  }
 },
 "nbformat": 4,
 "nbformat_minor": 4
}
